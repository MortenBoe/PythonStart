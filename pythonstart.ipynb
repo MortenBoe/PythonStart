{
  "nbformat": 4,
  "nbformat_minor": 0,
  "metadata": {
    "colab": {
      "provenance": [],
      "include_colab_link": true
    },
    "kernelspec": {
      "name": "python3",
      "display_name": "Python 3"
    },
    "language_info": {
      "name": "python"
    }
  },
  "cells": [
    {
      "cell_type": "markdown",
      "metadata": {
        "id": "view-in-github",
        "colab_type": "text"
      },
      "source": [
        "<a href=\"https://colab.research.google.com/github/MortenBoe/PythonStart/blob/main/pythonstart.ipynb\" target=\"_parent\"><img src=\"https://colab.research.google.com/assets/colab-badge.svg\" alt=\"Open In Colab\"/></a>"
      ]
    },
    {
      "cell_type": "markdown",
      "source": [
        "#Python \n",
        "er et kraftig og allsidig tekstbasert programmeringsspråk. \n",
        "<br/>\n",
        "Syntaksen er klar og enkel - men uttrykksfullt og fleksibelt. \n",
        "<br/>\n",
        "Man kan gjøre mye med få instrukser i forhold til andre språk.\n",
        "<br/>\n",
        "Python passer perfekt for  webutvikling,  automatisering, dataanalyse og kunstig intelligens.<br/><br/>\n",
        "\n",
        "Dette dokumentet med enkle python-script tar utgangspunkt i en egen powerpoint-presentasjon.<br/>\n",
        "Kopier/klon dette dokumentet , og la det gjerne være et utgangspunkt for kjøring av viste eksempler og innlevering av oppgaver.\n",
        "<br/>\n",
        "Hvordan man legger til kode og tekst vil bli vist.\n",
        "<br/><br/>\n",
        "\n",
        "## Installasjon på PC:\n",
        "Installer siste versjon fra https://www.python.org/downloads/<br/>\n",
        "Det er enkle programmer til å redigere kode inne i denne installasjonen.<br/>\n",
        "<br/>\n",
        "De som ønsker å lage større program kan gjerne laste ned:<br/>\n",
        "https://www.jetbrains.com/pycharm/download/download-thanks.html    \n",
        "\n",
        "## Nettressurser\n",
        "Python er blant de mest populære språkene (Java, C++)\n",
        "<br/>Ressurser (opplæring, kurs, oppfølging etc) florerer på nett.\n",
        "<br/><br/>Her er noen gode ressurser:\n",
        "\n",
        "\n",
        "https://pynative.com/python/<br/>\n",
        "https://www.w3schools.com/python/python_intro.asp<br/>\n",
        "https://www.learnpython.org/<br/>\n",
        "\n",
        "\n"
      ],
      "metadata": {
        "id": "KVwrSdRP0-3F"
      }
    },
    {
      "cell_type": "markdown",
      "source": [
        "## \"Hallo verden\"\n",
        "En tradisjon for å bli kjent med et nytt programmeringsspråk er at vi først koder den til å hilse på verden. <br/>\n",
        "«Hallo verden» <br/>I Python:\n"
      ],
      "metadata": {
        "id": "AjMABZmZ19J0"
      }
    },
    {
      "cell_type": "code",
      "source": [
        "print(\"Hallo verden\")"
      ],
      "metadata": {
        "colab": {
          "base_uri": "https://localhost:8080/"
        },
        "id": "r5gaGKqcF6_Y",
        "outputId": "d21689a6-9307-45d9-957e-c7af26ce7ec5"
      },
      "execution_count": null,
      "outputs": [
        {
          "output_type": "stream",
          "name": "stdout",
          "text": [
            "Hallo verden\n"
          ]
        }
      ]
    },
    {
      "cell_type": "code",
      "source": [
        "# Generelle kommentarer skrives først med «#»\n",
        "#\n",
        "# Regnestykke 3*2 + 1\n",
        "print(3*2 + 1)"
      ],
      "metadata": {
        "id": "IA0otoG-GBky"
      },
      "execution_count": null,
      "outputs": []
    },
    {
      "cell_type": "code",
      "source": [
        "\n",
        "# Eksempel\n",
        "# Vi lager først en variabel (melding) og gir den en verdi i form av en tekst\n",
        "melding = \"Hallo verden. \"\n",
        "melding2 = \"Jeg er Py.\"\n",
        "print (melding)\n",
        "print (melding + melding2)"
      ],
      "metadata": {
        "id": "1vytceoM21S0"
      },
      "execution_count": null,
      "outputs": []
    },
    {
      "cell_type": "code",
      "source": [
        "# Formatert utskrift\n",
        "x=3\n",
        "print(f\"tall {x} .\")"
      ],
      "metadata": {
        "id": "4FDFyA062rjL"
      },
      "execution_count": null,
      "outputs": []
    },
    {
      "cell_type": "markdown",
      "source": [
        "##Variabler"
      ],
      "metadata": {
        "id": "bDPTa4UABvPR"
      }
    },
    {
      "cell_type": "code",
      "source": [
        "tall1 = 4\n",
        "tall2 = 3\n",
        "\n",
        "Sum = tall2 + tall2\n",
        "\n",
        "#vi ønsker å legge til 5 til Sum\n",
        "Sum = Sum + 5\n",
        "#Kan alternativt også skrives slik:\n",
        "Sum += 5\n",
        "\n",
        "Sum*=2\n",
        "\n",
        "print(Sum)"
      ],
      "metadata": {
        "id": "CdC1viT38sOF"
      },
      "execution_count": null,
      "outputs": []
    },
    {
      "cell_type": "code",
      "source": [
        "a, b, c = 1, 2, \"john\"\n",
        "print(a,b,c)"
      ],
      "metadata": {
        "id": "OdgxXaTOZ25A"
      },
      "execution_count": null,
      "outputs": []
    },
    {
      "cell_type": "code",
      "source": [
        "a,b = 2,3\n",
        "print (a,b)\n",
        "\n",
        "a,b = b,a\n",
        "print(a,b)\n",
        "\n",
        "print('hei ' * 3)"
      ],
      "metadata": {
        "id": "jQmh8d9xpRNB"
      },
      "execution_count": null,
      "outputs": []
    },
    {
      "cell_type": "markdown",
      "source": [
        "##Lese-eksempel \n"
      ],
      "metadata": {
        "id": "CiCSqbYcEckt"
      }
    },
    {
      "cell_type": "code",
      "source": [
        "alfabetet=\"abcdefghijklmnopqrstuvwxyzæøå\"\n",
        "\n",
        "lengde=len(alfabetet)\n",
        "#Lengden på alfabetet\n",
        "\n",
        "print(\"Ant.bokstaver i alfabetet:\",lengde)\n",
        "\n",
        "bokstav=input(\"Bokstav skal vi finne?\")\n",
        "\n",
        "plassering = alfabetet.find(bokstav)\n",
        "print(\"Den er på plass nr:\",plassering)\n",
        "\n",
        "#Skriver ut et alfabet på plassering\n",
        "print(alfabetet[plassering])"
      ],
      "metadata": {
        "id": "77uk2LhG9XHS"
      },
      "execution_count": null,
      "outputs": []
    },
    {
      "cell_type": "markdown",
      "source": [
        "## Boolsk algebra"
      ],
      "metadata": {
        "id": "XIr6atdH-M3q"
      }
    },
    {
      "cell_type": "code",
      "source": [
        "a = 5\n",
        "b = 5\n",
        "c = 2\n",
        "\n",
        "print(a > 7)\n",
        "\n",
        "#Vi sammenligner to variabler med ‘==‘\n",
        "print(a==b)\n",
        "\n",
        "print(a<=c)"
      ],
      "metadata": {
        "id": "3OqUHHEd-HWB"
      },
      "execution_count": null,
      "outputs": []
    },
    {
      "cell_type": "code",
      "source": [
        "x = 36 / 4 * (3 +  2) * 4 + 2\n",
        "print(x)\n",
        "\n"
      ],
      "metadata": {
        "id": "LmXcK3RMT5_3"
      },
      "execution_count": null,
      "outputs": []
    },
    {
      "cell_type": "markdown",
      "source": [
        "##Betingelses setninger"
      ],
      "metadata": {
        "id": "gaub8ZvvBjXJ"
      }
    },
    {
      "cell_type": "code",
      "source": [
        "if True:\n",
        "   print(\"Det er sant.\")\n",
        "\n",
        "# Hvis tall1 er større enn 5 så skriv ut «Tallet er større en 5»\n",
        "tall = 7\n",
        "if tall > 5:    # \n",
        "  print(\"Tallet er større en 5\")\n",
        "\n",
        "# Hvis tall1 er lik 6 så skriv ut «Tallet er lik 6. Bare så du vet det»\n",
        "tall=7\n",
        "if tall == 6:\n",
        "  print(\"Tallet er lik 6\")\n",
        "  print(\"Bare så du vet det\")"
      ],
      "metadata": {
        "id": "1u9FvUo5-rQy"
      },
      "execution_count": null,
      "outputs": []
    },
    {
      "cell_type": "markdown",
      "source": [
        "###Betingelsessetning | ulikhet"
      ],
      "metadata": {
        "id": "J0xkb_DDFMyY"
      }
    },
    {
      "cell_type": "code",
      "source": [
        "# Hvis tall1 er ulik 6 så skriv ut «Tallet er ulik 6»\n",
        "\n",
        "if tall1!=6:\n",
        "  print(\"Tallet er ulik 6\")\n",
        "\n",
        "# eller:\n",
        "if not(tall1==6):\n",
        "  print(\"Tallet er ulik 6\")\n"
      ],
      "metadata": {
        "id": "w5o1f8oQCQa1"
      },
      "execution_count": null,
      "outputs": []
    },
    {
      "cell_type": "markdown",
      "source": [
        "##if – med input setning"
      ],
      "metadata": {
        "id": "lI1btToiFDmw"
      }
    },
    {
      "cell_type": "code",
      "source": [
        "# Hent verdi i form av tekst:\n",
        "tekst = input(\"Skriv en tekst - minst 5 tegn.   \")\n",
        "\n",
        "# Hvis lengden på tekst er mindre enn 5\n",
        "if len(tekst) < 5:\n",
        "  print(\"Tekst er for liten.\")\n",
        "else:\n",
        "  print(\"Tekst har minst 5 tegn.\")"
      ],
      "metadata": {
        "id": "R_lSP5m9DyoB"
      },
      "execution_count": null,
      "outputs": []
    },
    {
      "cell_type": "code",
      "source": [
        "# Hent verdi i form av tekst\n",
        "adresse = input(\"Skriv inn din epost-adresse: \")\n",
        "\n",
        "if not('@' and '.' in adresse):\n",
        "  print(\"Ugyldig epost-adresse\")\n",
        "\n"
      ],
      "metadata": {
        "id": "dy-12YBkbN6H"
      },
      "execution_count": null,
      "outputs": []
    },
    {
      "cell_type": "code",
      "source": [
        "# \"elif\"  står for «else if».\n",
        "# En annen måte er å si :\n",
        "# «hvis forrige betingelse var usann, så sjekk om denne er sann»\n",
        " \n",
        "a = 200\n",
        "b = 33\n",
        "if b > a:\n",
        "  print(\"b is greater than a\")\n",
        "elif a == b:\n",
        "  print(\"a and b are equal\")\n",
        "else:\n",
        "  print(\"a is greater than b\")\n"
      ],
      "metadata": {
        "id": "Zpyg09L1d6E2"
      },
      "execution_count": null,
      "outputs": []
    },
    {
      "cell_type": "markdown",
      "source": [
        "## Funksjoner"
      ],
      "metadata": {
        "id": "6R9T3CvO3isk"
      }
    },
    {
      "cell_type": "code",
      "source": [
        "def Kvadrat(a):\n",
        "  return a*a\n",
        "\n",
        "print(Kvadrat(4))"
      ],
      "metadata": {
        "id": "bs3_-LDir084"
      },
      "execution_count": null,
      "outputs": []
    },
    {
      "cell_type": "code",
      "source": [
        "def cm(fot=0, tomme=0):\n",
        "  tomme_til_cm = tomme*2.54\n",
        "  fot_til_cm = fot*12*2.54\n",
        "  return fot_til_cm + tomme_til_cm\n",
        "\n",
        "print(cm(fot=5))"
      ],
      "metadata": {
        "id": "R-BZKscNsaEA"
      },
      "execution_count": null,
      "outputs": []
    },
    {
      "cell_type": "code",
      "source": [
        "x = 'bra'   ## Global variabel\n",
        "def func():\n",
        "  x = 'flott'  ## Lokal variabel\n",
        "  print(\"Python er \" + x)\n",
        "\n",
        "func()\n",
        "\n",
        "print(\"Python er \" + x)"
      ],
      "metadata": {
        "id": "McQx22vvszSA"
      },
      "execution_count": null,
      "outputs": []
    },
    {
      "cell_type": "code",
      "source": [
        "from random import randint\n",
        "terningkast = randint(1,6)\n",
        "\n",
        "print(terningkast)"
      ],
      "metadata": {
        "id": "SGuOXJNgtPmD"
      },
      "execution_count": null,
      "outputs": []
    },
    {
      "cell_type": "code",
      "source": [
        "## Lambda-funksjoner\n",
        "\n",
        "Kvadrat_lamb = lambda x: x*x\n",
        "\n",
        "print(Kvadrat_lamb(2))"
      ],
      "metadata": {
        "id": "_DwJMEWetqaJ"
      },
      "execution_count": null,
      "outputs": []
    },
    {
      "cell_type": "code",
      "source": [
        "def produkt(n):\n",
        "  return lambda a: a*n\n",
        "\n",
        "dobler = produkt(2)    # dobler egen funksjon\n",
        "\n",
        "print(dobler(11))"
      ],
      "metadata": {
        "id": "wROvPmjHuJFI"
      },
      "execution_count": null,
      "outputs": []
    },
    {
      "cell_type": "markdown",
      "source": [
        "##Liste"
      ],
      "metadata": {
        "id": "C1gnlPi53yFc"
      }
    },
    {
      "cell_type": "code",
      "source": [
        "##Liste \n",
        "liste = [\"a\",\"b\",\"c\",3, 3.5, 5,3,7]\n",
        "\n",
        "print(liste)\n",
        "\n",
        "print(liste[0])\n",
        "\n",
        "print(liste[2:5])\n",
        "\n",
        "print(liste[:3])\n"
      ],
      "metadata": {
        "id": "FPAyRG9yudx2"
      },
      "execution_count": null,
      "outputs": []
    },
    {
      "cell_type": "code",
      "source": [
        "## Liste må være kjørt\n",
        "\n",
        "if (5 in liste):\n",
        "  print(\"5 finnes\")\n"
      ],
      "metadata": {
        "id": "8DsSxBzrvn_h"
      },
      "execution_count": null,
      "outputs": []
    },
    {
      "cell_type": "code",
      "source": [
        "# Gjennomgang av listeinnhold\n",
        "liste = [2,3,4,5,6]\n",
        "\n",
        "for i in (liste):\n",
        "  print(i)\n",
        "\n",
        "print(liste[::1]) \n",
        "\n",
        "print(liste[::-1]) \n",
        "\n",
        "\n",
        "for i in range(len(liste)):\n",
        "  print(liste[i])\n",
        "\n",
        "[x for x in liste]"
      ],
      "metadata": {
        "id": "PuyUyMZkv7R0"
      },
      "execution_count": null,
      "outputs": []
    },
    {
      "cell_type": "code",
      "source": [
        "## Liste sammendrag\n",
        "liste = ['as','b','ca','d','ea','d']\n",
        "nyliste = []\n",
        "\n",
        "#ny liste som inneholder elementer med 'a'\n",
        "for x in liste:\n",
        "  if 'a' in x:\n",
        "    nyliste.append(x)\n",
        "\n",
        "# alternativt:\n",
        "nyliste2= [x for x in liste if 'a' in x]\n",
        "\n",
        "print(nyliste)\n",
        "print(nyliste2)"
      ],
      "metadata": {
        "id": "FUlX82qFyRbj"
      },
      "execution_count": null,
      "outputs": []
    },
    {
      "cell_type": "code",
      "source": [
        "listOne = [20, 40, 60, 80]\n",
        "listTwo = [20, 40, 60, 80]\n",
        "\n",
        "print(listOne == listTwo)\n",
        "print(listOne is listTwo)"
      ],
      "metadata": {
        "id": "icVRiMDV_h9U"
      },
      "execution_count": null,
      "outputs": []
    },
    {
      "cell_type": "markdown",
      "source": [
        "#Tupler "
      ],
      "metadata": {
        "id": "zN16LLR335U0"
      }
    },
    {
      "cell_type": "code",
      "source": [
        "a, b, c = 1,2,3\n",
        "\n",
        "(p, q, r) = (10, 20 ,30)\n",
        "\n",
        "print(a, b, c)\n",
        "print(p, q, r)"
      ],
      "metadata": {
        "id": "lqgDqnj_2O_V"
      },
      "execution_count": null,
      "outputs": []
    },
    {
      "cell_type": "code",
      "source": [
        "# Tupler\n",
        "fruits=(\"apple\",\"banana\",\"cherry\")\n",
        "(green, yellow, red) = fruits\n",
        "\n",
        "print(green)\n",
        "print(yellow)\n",
        "print(red)\n",
        "\n",
        "fruits = (\"apple\",\"mango\",\"papaya\",\"pineapple\",\"cherry\")\n",
        "(green, *tropic, red) = fruits\n",
        "\n",
        "print(green)\n",
        "print(tropic)\n",
        "print(red)\n"
      ],
      "metadata": {
        "id": "P8hhrLMQzlEP"
      },
      "execution_count": null,
      "outputs": []
    },
    {
      "cell_type": "code",
      "source": [
        "#Tupler er som lister, men kan ikke oppdateres\n",
        "# da må de konverteres til lister\n",
        "\n",
        "x = (\"apple\",\"banana\",\"cherry\")\n",
        "y=list(x)\n",
        "\n",
        "y[1] =\"kiwi\"\n",
        "x =tuple(y)\n",
        "print(x)"
      ],
      "metadata": {
        "id": "8fiuIDWV0hag"
      },
      "execution_count": null,
      "outputs": []
    },
    {
      "cell_type": "markdown",
      "source": [
        "## Ordbok"
      ],
      "metadata": {
        "id": "YlrngfIe4Hp0"
      }
    },
    {
      "cell_type": "code",
      "source": [
        "# Dictionary / ordbok\n",
        "biloppslag = {\"merke\":\"Ford\",\"model\":\"Mustang\",\"aar\":1964}\n",
        "\n",
        "print(biloppslag)\n",
        "\n",
        "print(biloppslag[\"merke\"])"
      ],
      "metadata": {
        "id": "gMSQXxzOd515"
      },
      "execution_count": null,
      "outputs": []
    },
    {
      "cell_type": "code",
      "source": [
        "biloppslag = {\"merke\":\"Ford\",\"model\":\"Mustang\",\"aar\":1964}\n",
        "\n",
        "print (biloppslag [\"model\"])\n",
        "x = biloppslag.get(\"aar\")\n",
        "print(x)  \n",
        "\n",
        "x = biloppslag.keys()\n",
        "print(x)\n"
      ],
      "metadata": {
        "id": "vYzsY0xM1mAg"
      },
      "execution_count": null,
      "outputs": []
    },
    {
      "cell_type": "code",
      "source": [
        "# Generere ordbok basert på en funksjon\n",
        "d_tall ={f\"Key_sq{x}\": x*x for x in range(1,6)}\n",
        "print(d_tall)\n",
        "\n"
      ],
      "metadata": {
        "id": "Z1lfuD7K14bi"
      },
      "execution_count": null,
      "outputs": []
    },
    {
      "cell_type": "markdown",
      "source": [
        "## Demo"
      ],
      "metadata": {
        "id": "InrghnmD4OoG"
      }
    },
    {
      "cell_type": "code",
      "source": [
        "#Demo\n",
        "from matplotlib import pyplot as plt\n",
        "import numpy as np\n",
        "\n",
        "# Generate 100 random data points along 3 dimensions\n",
        "x, y, scale = np.random.randn(3, 100)\n",
        "fig, ax = plt.subplots()\n",
        "\n",
        "# Map each onto a scatterplot we'll create with Matplotlib\n",
        "ax.scatter(x=x, y=y, c=scale, s=np.abs(scale)*500)\n",
        "ax.set(title=\"Some random data, created with JupyterLab!\")\n",
        "plt.show()"
      ],
      "metadata": {
        "id": "IhX4F2t5mlWx"
      },
      "execution_count": null,
      "outputs": []
    },
    {
      "cell_type": "code",
      "source": [
        "from tkinter import *\n",
        "window = Tk()\n",
        "#Virker ikke her"
      ],
      "metadata": {
        "id": "l9zUa-pB2jzK"
      },
      "execution_count": null,
      "outputs": []
    }
  ]
}